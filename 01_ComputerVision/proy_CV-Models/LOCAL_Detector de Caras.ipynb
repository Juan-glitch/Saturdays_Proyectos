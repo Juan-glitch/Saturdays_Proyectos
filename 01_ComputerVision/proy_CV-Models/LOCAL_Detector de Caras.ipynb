{
 "cells": [
  {
   "cell_type": "markdown",
   "id": "ca2ae9fb",
   "metadata": {},
   "source": [
    "# Requisitos\n",
    "\n",
    "- [MediaPipe](https://github.com/google/mediapipe): Librería de modelos embebidos\n",
    "- h5py: Librería para serializar modelos\n"
   ]
  },
  {
   "cell_type": "code",
   "execution_count": 1,
   "id": "669f6cba",
   "metadata": {},
   "outputs": [
    {
     "name": "stdout",
     "output_type": "stream",
     "text": [
      "Requirement already satisfied: h5py in c:\\users\\jjari\\.conda\\envs\\cv\\lib\\site-packages (3.1.0)\n",
      "Requirement already satisfied: numpy>=1.12 in c:\\users\\jjari\\.conda\\envs\\cv\\lib\\site-packages (from h5py) (1.19.3)\n",
      "Requirement already satisfied: cached-property in c:\\users\\jjari\\.conda\\envs\\cv\\lib\\site-packages (from h5py) (1.5.2)\n",
      "Requirement already satisfied: mediapipe in c:\\users\\jjari\\.conda\\envs\\cv\\lib\\site-packages (0.8.3)\n",
      "Requirement already satisfied: dataclasses in c:\\users\\jjari\\.conda\\envs\\cv\\lib\\site-packages (from mediapipe) (0.8)\n",
      "Requirement already satisfied: wheel in c:\\users\\jjari\\.conda\\envs\\cv\\lib\\site-packages (from mediapipe) (0.37.0)\n",
      "Requirement already satisfied: protobuf>=3.11.4 in c:\\users\\jjari\\.conda\\envs\\cv\\lib\\site-packages (from mediapipe) (3.17.3)\n",
      "Requirement already satisfied: six in c:\\users\\jjari\\.conda\\envs\\cv\\lib\\site-packages (from mediapipe) (1.15.0)\n",
      "Requirement already satisfied: opencv-python in c:\\users\\jjari\\.conda\\envs\\cv\\lib\\site-packages (from mediapipe) (4.5.3.56)\n",
      "Requirement already satisfied: absl-py in c:\\users\\jjari\\.conda\\envs\\cv\\lib\\site-packages (from mediapipe) (0.13.0)\n",
      "Requirement already satisfied: numpy==1.19.3 in c:\\users\\jjari\\.conda\\envs\\cv\\lib\\site-packages (from mediapipe) (1.19.3)\n",
      "Requirement already satisfied: attrs in c:\\users\\jjari\\.conda\\envs\\cv\\lib\\site-packages (from mediapipe) (21.2.0)\n"
     ]
    }
   ],
   "source": [
    "!pip install --upgrade  h5py\n",
    "!pip install mediapipe"
   ]
  },
  {
   "cell_type": "markdown",
   "id": "62822c3c",
   "metadata": {},
   "source": [
    "# Módulos\n",
    "Importamos los moduos necesarios para poder ejecutar el código."
   ]
  },
  {
   "cell_type": "code",
   "execution_count": 1,
   "id": "13b6667e",
   "metadata": {},
   "outputs": [],
   "source": [
    "import cv2\n",
    "import os"
   ]
  },
  {
   "cell_type": "markdown",
   "id": "87e5b7e8",
   "metadata": {},
   "source": [
    "# Cámara\n",
    "\n",
    "Definimos una instancia con OpenCV para definir la cámara."
   ]
  },
  {
   "cell_type": "code",
   "execution_count": 2,
   "id": "38b6a2ff",
   "metadata": {},
   "outputs": [],
   "source": [
    "cap = cv2.VideoCapture(0)"
   ]
  },
  {
   "cell_type": "markdown",
   "id": "e8a1e7c0",
   "metadata": {},
   "source": [
    "# Modelo\n",
    "\n",
    "En este paso importaremos el modelo encargado de la detección de caras. \n",
    "\n",
    "> _Gracias al script proporcionado por el módulo de CVZone nos entregará únicamente los resultados finales extraidos del tensor de salida._"
   ]
  },
  {
   "cell_type": "code",
   "execution_count": 3,
   "id": "59e0e2b0",
   "metadata": {},
   "outputs": [],
   "source": [
    "from cvzone.FaceDetectionModule import FaceDetector\n",
    "import cv2"
   ]
  },
  {
   "cell_type": "markdown",
   "id": "e71e1acb",
   "metadata": {},
   "source": [
    "Definimos el modelo en un objeto:"
   ]
  },
  {
   "cell_type": "code",
   "execution_count": 4,
   "id": "3440d2c2",
   "metadata": {},
   "outputs": [],
   "source": [
    "detector = FaceDetector()"
   ]
  },
  {
   "cell_type": "markdown",
   "id": "6feb8f90",
   "metadata": {},
   "source": [
    "# Main\n",
    "Programa principal encargado de efectuar la detección de caras en un bucle continuo."
   ]
  },
  {
   "cell_type": "code",
   "execution_count": 5,
   "id": "118f5d2a",
   "metadata": {},
   "outputs": [],
   "source": [
    "while True:\n",
    "    success, img = cap.read()\n",
    "    img, bboxs = detector.findFaces(img)\n",
    "\n",
    "    if bboxs:\n",
    "        # bboxInfo - \"id\",\"bbox\",\"score\",\"center\"\n",
    "        center = bboxs[0][\"center\"]\n",
    "        cv2.circle(img, center, 5, (255, 0, 255), cv2.FILLED)\n",
    "\n",
    "    cv2.imshow(\"Detector-Caras\", img)\n",
    "    \n",
    "    \n",
    "    #STOP COMMANDS\n",
    "    key = cv2.waitKey(1)\n",
    "    if key == 27: # ESC - keyboard\n",
    "        break\n",
    "        \n",
    "# Close OpenCV        \n",
    "cap.release() #Close camera reading\n",
    "cv2.destroyAllWindows()"
   ]
  },
  {
   "cell_type": "code",
   "execution_count": null,
   "id": "0df841e5",
   "metadata": {},
   "outputs": [],
   "source": []
  }
 ],
 "metadata": {
  "kernelspec": {
   "display_name": "Python 3",
   "language": "python",
   "name": "python3"
  },
  "language_info": {
   "codemirror_mode": {
    "name": "ipython",
    "version": 3
   },
   "file_extension": ".py",
   "mimetype": "text/x-python",
   "name": "python",
   "nbconvert_exporter": "python",
   "pygments_lexer": "ipython3",
   "version": "3.6.13"
  }
 },
 "nbformat": 4,
 "nbformat_minor": 5
}
