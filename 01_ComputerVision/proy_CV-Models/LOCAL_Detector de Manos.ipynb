{
 "cells": [
  {
   "cell_type": "markdown",
   "id": "ca2ae9fb",
   "metadata": {},
   "source": [
    "# Requisitos\n",
    "\n",
    "- [MediaPipe](https://github.com/google/mediapipe): Librería de modelos embebidos\n",
    "- h5py: Librería para serializar modelos\n"
   ]
  },
  {
   "cell_type": "code",
   "execution_count": 1,
   "id": "669f6cba",
   "metadata": {},
   "outputs": [
    {
     "name": "stdout",
     "output_type": "stream",
     "text": [
      "Requirement already satisfied: h5py in c:\\users\\jjari\\.conda\\envs\\cv\\lib\\site-packages (3.1.0)\n",
      "Requirement already satisfied: cached-property in c:\\users\\jjari\\.conda\\envs\\cv\\lib\\site-packages (from h5py) (1.5.2)\n",
      "Requirement already satisfied: numpy>=1.12 in c:\\users\\jjari\\.conda\\envs\\cv\\lib\\site-packages (from h5py) (1.19.3)\n",
      "Requirement already satisfied: mediapipe in c:\\users\\jjari\\.conda\\envs\\cv\\lib\\site-packages (0.8.3)\n",
      "Requirement already satisfied: protobuf>=3.11.4 in c:\\users\\jjari\\.conda\\envs\\cv\\lib\\site-packages (from mediapipe) (3.17.3)\n",
      "Requirement already satisfied: wheel in c:\\users\\jjari\\.conda\\envs\\cv\\lib\\site-packages (from mediapipe) (0.37.0)\n",
      "Requirement already satisfied: six in c:\\users\\jjari\\.conda\\envs\\cv\\lib\\site-packages (from mediapipe) (1.15.0)\n",
      "Requirement already satisfied: opencv-python in c:\\users\\jjari\\.conda\\envs\\cv\\lib\\site-packages (from mediapipe) (4.5.3.56)\n",
      "Requirement already satisfied: absl-py in c:\\users\\jjari\\.conda\\envs\\cv\\lib\\site-packages (from mediapipe) (0.13.0)\n",
      "Requirement already satisfied: dataclasses in c:\\users\\jjari\\.conda\\envs\\cv\\lib\\site-packages (from mediapipe) (0.8)\n",
      "Requirement already satisfied: attrs in c:\\users\\jjari\\.conda\\envs\\cv\\lib\\site-packages (from mediapipe) (21.2.0)\n",
      "Requirement already satisfied: numpy==1.19.3 in c:\\users\\jjari\\.conda\\envs\\cv\\lib\\site-packages (from mediapipe) (1.19.3)\n"
     ]
    }
   ],
   "source": [
    "!pip install --upgrade  h5py\n",
    "!pip install mediapipe"
   ]
  },
  {
   "cell_type": "markdown",
   "id": "62822c3c",
   "metadata": {},
   "source": [
    "# Módulos\n",
    "Importamos los moduos necesarios para poder ejecutar el código."
   ]
  },
  {
   "cell_type": "code",
   "execution_count": 1,
   "id": "13b6667e",
   "metadata": {},
   "outputs": [],
   "source": [
    "import cv2\n",
    "import os"
   ]
  },
  {
   "cell_type": "markdown",
   "id": "87e5b7e8",
   "metadata": {},
   "source": [
    "# Cámara\n",
    "\n",
    "Definimos una instancia con OpenCV para definir la cámara."
   ]
  },
  {
   "cell_type": "code",
   "execution_count": 2,
   "id": "38b6a2ff",
   "metadata": {},
   "outputs": [],
   "source": [
    "cap = cv2.VideoCapture(0)"
   ]
  },
  {
   "cell_type": "markdown",
   "id": "e8a1e7c0",
   "metadata": {},
   "source": [
    "# Modelo\n",
    "\n",
    "En este paso importaremos el modelo encargado de la detección de caras. \n",
    "\n",
    "> _Gracias al script proporcionado por el módulo de CVZone nos entregará únicamente los resultados finales extraidos del tensor de salida._"
   ]
  },
  {
   "cell_type": "code",
   "execution_count": 3,
   "id": "59e0e2b0",
   "metadata": {},
   "outputs": [],
   "source": [
    "import cv2\n",
    "from cvzone.HandTrackingModule import HandDetector"
   ]
  },
  {
   "cell_type": "markdown",
   "id": "e71e1acb",
   "metadata": {},
   "source": [
    "Definimos el modelo en un objeto:\n",
    "\n",
    "- param detectionCon: Minimum Detection Confidence Threshold\n",
    "- param minTrackCon: Minimum Tracking Confidence Threshold"
   ]
  },
  {
   "cell_type": "code",
   "execution_count": 4,
   "id": "cea79411",
   "metadata": {},
   "outputs": [],
   "source": [
    "cap = cv2.VideoCapture(0)\n",
    "detector = HandDetector(detectionCon=0.8, maxHands=2)"
   ]
  },
  {
   "cell_type": "markdown",
   "id": "6feb8f90",
   "metadata": {},
   "source": [
    "# Main\n",
    "Programa principal encargado de efectuar la detección de caras en un bucle continuo."
   ]
  },
  {
   "cell_type": "code",
   "execution_count": 5,
   "id": "118f5d2a",
   "metadata": {},
   "outputs": [
    {
     "ename": "KeyboardInterrupt",
     "evalue": "",
     "output_type": "error",
     "traceback": [
      "\u001b[1;31m---------------------------------------------------------------------------\u001b[0m",
      "\u001b[1;31mKeyboardInterrupt\u001b[0m                         Traceback (most recent call last)",
      "\u001b[1;32m<ipython-input-5-c8a8e4c44cb8>\u001b[0m in \u001b[0;36m<module>\u001b[1;34m\u001b[0m\n\u001b[0;32m      3\u001b[0m     \u001b[0msuccess\u001b[0m\u001b[1;33m,\u001b[0m \u001b[0mimg\u001b[0m \u001b[1;33m=\u001b[0m \u001b[0mcap\u001b[0m\u001b[1;33m.\u001b[0m\u001b[0mread\u001b[0m\u001b[1;33m(\u001b[0m\u001b[1;33m)\u001b[0m\u001b[1;33m\u001b[0m\u001b[1;33m\u001b[0m\u001b[0m\n\u001b[0;32m      4\u001b[0m     \u001b[1;31m# Find the hand and its landmarks\u001b[0m\u001b[1;33m\u001b[0m\u001b[1;33m\u001b[0m\u001b[1;33m\u001b[0m\u001b[0m\n\u001b[1;32m----> 5\u001b[1;33m     \u001b[0mhands\u001b[0m\u001b[1;33m,\u001b[0m \u001b[0mimg\u001b[0m \u001b[1;33m=\u001b[0m \u001b[0mdetector\u001b[0m\u001b[1;33m.\u001b[0m\u001b[0mfindHands\u001b[0m\u001b[1;33m(\u001b[0m\u001b[0mimg\u001b[0m\u001b[1;33m)\u001b[0m  \u001b[1;31m# with draw\u001b[0m\u001b[1;33m\u001b[0m\u001b[1;33m\u001b[0m\u001b[0m\n\u001b[0m\u001b[0;32m      6\u001b[0m     \u001b[1;31m# hands = detector.findHands(img, draw=False)  # without draw\u001b[0m\u001b[1;33m\u001b[0m\u001b[1;33m\u001b[0m\u001b[1;33m\u001b[0m\u001b[0m\n\u001b[0;32m      7\u001b[0m \u001b[1;33m\u001b[0m\u001b[0m\n",
      "\u001b[1;32m~\\CV\\Modelos\\cvzone\\HandTrackingModule.py\u001b[0m in \u001b[0;36mfindHands\u001b[1;34m(self, img, draw, flipType)\u001b[0m\n\u001b[0;32m     86\u001b[0m                 \u001b[1;32mif\u001b[0m \u001b[0mdraw\u001b[0m\u001b[1;33m:\u001b[0m\u001b[1;33m\u001b[0m\u001b[1;33m\u001b[0m\u001b[0m\n\u001b[0;32m     87\u001b[0m                     self.mpDraw.draw_landmarks(img, handLms,\n\u001b[1;32m---> 88\u001b[1;33m                                                self.mpHands.HAND_CONNECTIONS)\n\u001b[0m\u001b[0;32m     89\u001b[0m                     cv2.rectangle(img, (bbox[0] - 20, bbox[1] - 20),\n\u001b[0;32m     90\u001b[0m                                   \u001b[1;33m(\u001b[0m\u001b[0mbbox\u001b[0m\u001b[1;33m[\u001b[0m\u001b[1;36m0\u001b[0m\u001b[1;33m]\u001b[0m \u001b[1;33m+\u001b[0m \u001b[0mbbox\u001b[0m\u001b[1;33m[\u001b[0m\u001b[1;36m2\u001b[0m\u001b[1;33m]\u001b[0m \u001b[1;33m+\u001b[0m \u001b[1;36m20\u001b[0m\u001b[1;33m,\u001b[0m \u001b[0mbbox\u001b[0m\u001b[1;33m[\u001b[0m\u001b[1;36m1\u001b[0m\u001b[1;33m]\u001b[0m \u001b[1;33m+\u001b[0m \u001b[0mbbox\u001b[0m\u001b[1;33m[\u001b[0m\u001b[1;36m3\u001b[0m\u001b[1;33m]\u001b[0m \u001b[1;33m+\u001b[0m \u001b[1;36m20\u001b[0m\u001b[1;33m)\u001b[0m\u001b[1;33m,\u001b[0m\u001b[1;33m\u001b[0m\u001b[1;33m\u001b[0m\u001b[0m\n",
      "\u001b[1;32mc:\\users\\jjari\\.conda\\envs\\cv\\lib\\site-packages\\mediapipe\\python\\solutions\\drawing_utils.py\u001b[0m in \u001b[0;36mdraw_landmarks\u001b[1;34m(image, landmark_list, connections, landmark_drawing_spec, connection_drawing_spec)\u001b[0m\n\u001b[0;32m    164\u001b[0m         cv2.line(image, idx_to_coordinates[start_idx],\n\u001b[0;32m    165\u001b[0m                  \u001b[0midx_to_coordinates\u001b[0m\u001b[1;33m[\u001b[0m\u001b[0mend_idx\u001b[0m\u001b[1;33m]\u001b[0m\u001b[1;33m,\u001b[0m \u001b[0mconnection_drawing_spec\u001b[0m\u001b[1;33m.\u001b[0m\u001b[0mcolor\u001b[0m\u001b[1;33m,\u001b[0m\u001b[1;33m\u001b[0m\u001b[1;33m\u001b[0m\u001b[0m\n\u001b[1;32m--> 166\u001b[1;33m                  connection_drawing_spec.thickness)\n\u001b[0m\u001b[0;32m    167\u001b[0m   \u001b[1;31m# Draws landmark points after finishing the connection lines, which is\u001b[0m\u001b[1;33m\u001b[0m\u001b[1;33m\u001b[0m\u001b[1;33m\u001b[0m\u001b[0m\n\u001b[0;32m    168\u001b[0m   \u001b[1;31m# aesthetically better.\u001b[0m\u001b[1;33m\u001b[0m\u001b[1;33m\u001b[0m\u001b[1;33m\u001b[0m\u001b[0m\n",
      "\u001b[1;31mKeyboardInterrupt\u001b[0m: "
     ]
    }
   ],
   "source": [
    "\n",
    "\n",
    "while True:\n",
    "    # Get image frame\n",
    "    success, img = cap.read()\n",
    "    # Find the hand and its landmarks\n",
    "    hands, img = detector.findHands(img)  # with draw\n",
    "    # hands = detector.findHands(img, draw=False)  # without draw\n",
    "\n",
    "    if hands:\n",
    "        # Hand 1\n",
    "        hand1 = hands[0]\n",
    "        lmList1 = hand1[\"lmList\"]  # List of 21 Landmark points\n",
    "        bbox1 = hand1[\"bbox\"]  # Bounding box info x,y,w,h\n",
    "        centerPoint1 = hand1['center']  # center of the hand cx,cy\n",
    "        handType1 = hand1[\"type\"]  # Handtype Left or Right\n",
    "\n",
    "        fingers1 = detector.fingersUp(hand1)\n",
    "\n",
    "        if len(hands) == 2:\n",
    "            # Hand 2\n",
    "            hand2 = hands[1]\n",
    "            lmList2 = hand2[\"lmList\"]  # List of 21 Landmark points\n",
    "            bbox2 = hand2[\"bbox\"]  # Bounding box info x,y,w,h\n",
    "            centerPoint2 = hand2['center']  # center of the hand cx,cy\n",
    "            handType2 = hand2[\"type\"]  # Hand Type \"Left\" or \"Right\"\n",
    "\n",
    "            fingers2 = detector.fingersUp(hand2)\n",
    "\n",
    "            # Find Distance between two Landmarks. Could be same hand or different hands\n",
    "            length, info, img = detector.findDistance(lmList1[8], lmList2[8], img)  # with draw\n",
    "            # length, info = detector.findDistance(lmList1[8], lmList2[8])  # with draw\n",
    "    # Display\n",
    "    cv2.imshow(\"Image\", img)\n",
    "    cv2.waitKey(1)\n",
    "cap.release()\n",
    "cv2.destroyAllWindows()"
   ]
  },
  {
   "cell_type": "code",
   "execution_count": 6,
   "id": "eb8fd95b",
   "metadata": {},
   "outputs": [],
   "source": [
    "cap.release()\n",
    "cv2.destroyAllWindows()"
   ]
  },
  {
   "cell_type": "code",
   "execution_count": null,
   "id": "33e67b35",
   "metadata": {},
   "outputs": [],
   "source": []
  }
 ],
 "metadata": {
  "kernelspec": {
   "display_name": "Python 3",
   "language": "python",
   "name": "python3"
  },
  "language_info": {
   "codemirror_mode": {
    "name": "ipython",
    "version": 3
   },
   "file_extension": ".py",
   "mimetype": "text/x-python",
   "name": "python",
   "nbconvert_exporter": "python",
   "pygments_lexer": "ipython3",
   "version": "3.6.13"
  }
 },
 "nbformat": 4,
 "nbformat_minor": 5
}
